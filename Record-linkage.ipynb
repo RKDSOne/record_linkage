{
 "cells": [
  {
   "cell_type": "markdown",
   "metadata": {},
   "source": [
    "### Introduction\n",
    "\n",
    "We will exemplify the probabilistic record linkage model using sample data from R's RecordLinkage package, called rl500, which consists of 500 records of individual data. The data is loaded from R and transformed into .csv file"
   ]
  },
  {
   "cell_type": "code",
   "execution_count": 1,
   "metadata": {
    "collapsed": true
   },
   "outputs": [],
   "source": [
    "import pandas as pd\n",
    "import numpy as np"
   ]
  },
  {
   "cell_type": "code",
   "execution_count": 2,
   "metadata": {
    "collapsed": true
   },
   "outputs": [],
   "source": [
    "# Load dataset\n",
    "rl500 = pd.read_csv('./data/RLdata500.csv')"
   ]
  },
  {
   "cell_type": "code",
   "execution_count": 3,
   "metadata": {
    "collapsed": false
   },
   "outputs": [
    {
     "data": {
      "text/html": [
       "<div>\n",
       "<table border=\"1\" class=\"dataframe\">\n",
       "  <thead>\n",
       "    <tr style=\"text-align: right;\">\n",
       "      <th></th>\n",
       "      <th>fname_c1</th>\n",
       "      <th>fname_c2</th>\n",
       "      <th>lname_c1</th>\n",
       "      <th>lname_c2</th>\n",
       "      <th>by</th>\n",
       "      <th>bm</th>\n",
       "      <th>bd</th>\n",
       "    </tr>\n",
       "  </thead>\n",
       "  <tbody>\n",
       "    <tr>\n",
       "      <th>0</th>\n",
       "      <td>CARSTEN</td>\n",
       "      <td>NaN</td>\n",
       "      <td>MEIER</td>\n",
       "      <td>NaN</td>\n",
       "      <td>1949</td>\n",
       "      <td>7</td>\n",
       "      <td>22</td>\n",
       "    </tr>\n",
       "    <tr>\n",
       "      <th>1</th>\n",
       "      <td>GERD</td>\n",
       "      <td>NaN</td>\n",
       "      <td>BAUER</td>\n",
       "      <td>NaN</td>\n",
       "      <td>1968</td>\n",
       "      <td>7</td>\n",
       "      <td>27</td>\n",
       "    </tr>\n",
       "    <tr>\n",
       "      <th>2</th>\n",
       "      <td>ROBERT</td>\n",
       "      <td>NaN</td>\n",
       "      <td>HARTMANN</td>\n",
       "      <td>NaN</td>\n",
       "      <td>1930</td>\n",
       "      <td>4</td>\n",
       "      <td>30</td>\n",
       "    </tr>\n",
       "    <tr>\n",
       "      <th>3</th>\n",
       "      <td>STEFAN</td>\n",
       "      <td>NaN</td>\n",
       "      <td>WOLFF</td>\n",
       "      <td>NaN</td>\n",
       "      <td>1957</td>\n",
       "      <td>9</td>\n",
       "      <td>2</td>\n",
       "    </tr>\n",
       "    <tr>\n",
       "      <th>4</th>\n",
       "      <td>RALF</td>\n",
       "      <td>NaN</td>\n",
       "      <td>KRUEGER</td>\n",
       "      <td>NaN</td>\n",
       "      <td>1966</td>\n",
       "      <td>1</td>\n",
       "      <td>13</td>\n",
       "    </tr>\n",
       "  </tbody>\n",
       "</table>\n",
       "</div>"
      ],
      "text/plain": [
       "  fname_c1 fname_c2  lname_c1 lname_c2    by  bm  bd\n",
       "0  CARSTEN      NaN     MEIER      NaN  1949   7  22\n",
       "1     GERD      NaN     BAUER      NaN  1968   7  27\n",
       "2   ROBERT      NaN  HARTMANN      NaN  1930   4  30\n",
       "3   STEFAN      NaN     WOLFF      NaN  1957   9   2\n",
       "4     RALF      NaN   KRUEGER      NaN  1966   1  13"
      ]
     },
     "execution_count": 3,
     "metadata": {},
     "output_type": "execute_result"
    }
   ],
   "source": [
    "rl500.head()"
   ]
  },
  {
   "cell_type": "code",
   "execution_count": 4,
   "metadata": {
    "collapsed": false
   },
   "outputs": [
    {
     "data": {
      "text/plain": [
       "fname_c1      0\n",
       "fname_c2    472\n",
       "lname_c1      0\n",
       "lname_c2    492\n",
       "by            0\n",
       "bm            0\n",
       "bd            0\n",
       "dtype: int64"
      ]
     },
     "execution_count": 4,
     "metadata": {},
     "output_type": "execute_result"
    }
   ],
   "source": [
    "rl500.isnull().sum()"
   ]
  },
  {
   "cell_type": "code",
   "execution_count": 5,
   "metadata": {
    "collapsed": false
   },
   "outputs": [
    {
     "data": {
      "text/html": [
       "<div>\n",
       "<table border=\"1\" class=\"dataframe\">\n",
       "  <thead>\n",
       "    <tr style=\"text-align: right;\">\n",
       "      <th></th>\n",
       "      <th>fname_c1</th>\n",
       "      <th>fname_c2</th>\n",
       "      <th>lname_c1</th>\n",
       "      <th>lname_c2</th>\n",
       "      <th>by</th>\n",
       "      <th>bm</th>\n",
       "      <th>bd</th>\n",
       "    </tr>\n",
       "  </thead>\n",
       "  <tbody>\n",
       "    <tr>\n",
       "      <th>27</th>\n",
       "      <td>JAN</td>\n",
       "      <td>JUERGEN</td>\n",
       "      <td>SCHAEFER</td>\n",
       "      <td>NaN</td>\n",
       "      <td>1946</td>\n",
       "      <td>5</td>\n",
       "      <td>25</td>\n",
       "    </tr>\n",
       "    <tr>\n",
       "      <th>31</th>\n",
       "      <td>CHRISTIAN</td>\n",
       "      <td>JENS</td>\n",
       "      <td>SCHULZ</td>\n",
       "      <td>NaN</td>\n",
       "      <td>2008</td>\n",
       "      <td>5</td>\n",
       "      <td>18</td>\n",
       "    </tr>\n",
       "    <tr>\n",
       "      <th>32</th>\n",
       "      <td>ANDREAS</td>\n",
       "      <td>FRANK</td>\n",
       "      <td>SCHUMACHER</td>\n",
       "      <td>NaN</td>\n",
       "      <td>1928</td>\n",
       "      <td>7</td>\n",
       "      <td>7</td>\n",
       "    </tr>\n",
       "    <tr>\n",
       "      <th>55</th>\n",
       "      <td>PETER</td>\n",
       "      <td>GUENTHER</td>\n",
       "      <td>ZIMMERMANN</td>\n",
       "      <td>NaN</td>\n",
       "      <td>1996</td>\n",
       "      <td>2</td>\n",
       "      <td>10</td>\n",
       "    </tr>\n",
       "    <tr>\n",
       "      <th>100</th>\n",
       "      <td>MANFRED</td>\n",
       "      <td>ANDREAS</td>\n",
       "      <td>SCHULZ</td>\n",
       "      <td>NaN</td>\n",
       "      <td>1998</td>\n",
       "      <td>4</td>\n",
       "      <td>9</td>\n",
       "    </tr>\n",
       "    <tr>\n",
       "      <th>195</th>\n",
       "      <td>DIETER</td>\n",
       "      <td>KLAUS</td>\n",
       "      <td>SCHMIDT</td>\n",
       "      <td>NaN</td>\n",
       "      <td>1950</td>\n",
       "      <td>8</td>\n",
       "      <td>20</td>\n",
       "    </tr>\n",
       "    <tr>\n",
       "      <th>199</th>\n",
       "      <td>GUENTHER</td>\n",
       "      <td>FRIEDRICH</td>\n",
       "      <td>WOLF</td>\n",
       "      <td>NaN</td>\n",
       "      <td>1975</td>\n",
       "      <td>4</td>\n",
       "      <td>23</td>\n",
       "    </tr>\n",
       "    <tr>\n",
       "      <th>240</th>\n",
       "      <td>CHRISTIAN</td>\n",
       "      <td>ALEXANDER</td>\n",
       "      <td>HERRMANN</td>\n",
       "      <td>NaN</td>\n",
       "      <td>1982</td>\n",
       "      <td>7</td>\n",
       "      <td>9</td>\n",
       "    </tr>\n",
       "    <tr>\n",
       "      <th>267</th>\n",
       "      <td>GABRIELE</td>\n",
       "      <td>GISELA</td>\n",
       "      <td>MEIER</td>\n",
       "      <td>NaN</td>\n",
       "      <td>1961</td>\n",
       "      <td>4</td>\n",
       "      <td>10</td>\n",
       "    </tr>\n",
       "    <tr>\n",
       "      <th>276</th>\n",
       "      <td>ERIKA</td>\n",
       "      <td>EDITH</td>\n",
       "      <td>BECKER</td>\n",
       "      <td>NaN</td>\n",
       "      <td>1970</td>\n",
       "      <td>7</td>\n",
       "      <td>12</td>\n",
       "    </tr>\n",
       "    <tr>\n",
       "      <th>289</th>\n",
       "      <td>HELGA</td>\n",
       "      <td>ELFRIEDE</td>\n",
       "      <td>BERGER</td>\n",
       "      <td>NaN</td>\n",
       "      <td>1989</td>\n",
       "      <td>1</td>\n",
       "      <td>18</td>\n",
       "    </tr>\n",
       "    <tr>\n",
       "      <th>299</th>\n",
       "      <td>SABINE</td>\n",
       "      <td>ELKE</td>\n",
       "      <td>BRANDT</td>\n",
       "      <td>NaN</td>\n",
       "      <td>1941</td>\n",
       "      <td>5</td>\n",
       "      <td>2</td>\n",
       "    </tr>\n",
       "    <tr>\n",
       "      <th>312</th>\n",
       "      <td>URSULA</td>\n",
       "      <td>BIRGIT</td>\n",
       "      <td>MUELLRR</td>\n",
       "      <td>NaN</td>\n",
       "      <td>1940</td>\n",
       "      <td>6</td>\n",
       "      <td>15</td>\n",
       "    </tr>\n",
       "    <tr>\n",
       "      <th>314</th>\n",
       "      <td>ANNA</td>\n",
       "      <td>WALTRAUD</td>\n",
       "      <td>FISCHER</td>\n",
       "      <td>NaN</td>\n",
       "      <td>1958</td>\n",
       "      <td>11</td>\n",
       "      <td>27</td>\n",
       "    </tr>\n",
       "    <tr>\n",
       "      <th>355</th>\n",
       "      <td>BRIGITTE</td>\n",
       "      <td>EDITH</td>\n",
       "      <td>PETERS</td>\n",
       "      <td>NaN</td>\n",
       "      <td>1956</td>\n",
       "      <td>8</td>\n",
       "      <td>21</td>\n",
       "    </tr>\n",
       "    <tr>\n",
       "      <th>357</th>\n",
       "      <td>HELGA</td>\n",
       "      <td>ANNA</td>\n",
       "      <td>LANGE</td>\n",
       "      <td>NaN</td>\n",
       "      <td>1965</td>\n",
       "      <td>9</td>\n",
       "      <td>7</td>\n",
       "    </tr>\n",
       "    <tr>\n",
       "      <th>375</th>\n",
       "      <td>ANNA</td>\n",
       "      <td>BARBARA</td>\n",
       "      <td>FUCHS</td>\n",
       "      <td>NaN</td>\n",
       "      <td>1991</td>\n",
       "      <td>8</td>\n",
       "      <td>27</td>\n",
       "    </tr>\n",
       "    <tr>\n",
       "      <th>380</th>\n",
       "      <td>ANGELIKA</td>\n",
       "      <td>NICOLE</td>\n",
       "      <td>FISCHER</td>\n",
       "      <td>NaN</td>\n",
       "      <td>1989</td>\n",
       "      <td>10</td>\n",
       "      <td>15</td>\n",
       "    </tr>\n",
       "    <tr>\n",
       "      <th>385</th>\n",
       "      <td>ERIKA</td>\n",
       "      <td>SABINE</td>\n",
       "      <td>NEUMANN</td>\n",
       "      <td>NaN</td>\n",
       "      <td>1999</td>\n",
       "      <td>5</td>\n",
       "      <td>6</td>\n",
       "    </tr>\n",
       "    <tr>\n",
       "      <th>408</th>\n",
       "      <td>GISELA</td>\n",
       "      <td>ANGELIKA</td>\n",
       "      <td>WOLF</td>\n",
       "      <td>NaN</td>\n",
       "      <td>1992</td>\n",
       "      <td>5</td>\n",
       "      <td>1</td>\n",
       "    </tr>\n",
       "    <tr>\n",
       "      <th>417</th>\n",
       "      <td>MONIKA</td>\n",
       "      <td>KARIN</td>\n",
       "      <td>BRANDT</td>\n",
       "      <td>NaN</td>\n",
       "      <td>1940</td>\n",
       "      <td>2</td>\n",
       "      <td>18</td>\n",
       "    </tr>\n",
       "    <tr>\n",
       "      <th>433</th>\n",
       "      <td>ELKE</td>\n",
       "      <td>SILKE</td>\n",
       "      <td>BAUER</td>\n",
       "      <td>NaN</td>\n",
       "      <td>1994</td>\n",
       "      <td>5</td>\n",
       "      <td>29</td>\n",
       "    </tr>\n",
       "    <tr>\n",
       "      <th>444</th>\n",
       "      <td>ANJA</td>\n",
       "      <td>URSULA</td>\n",
       "      <td>WEBER</td>\n",
       "      <td>NaN</td>\n",
       "      <td>1995</td>\n",
       "      <td>6</td>\n",
       "      <td>26</td>\n",
       "    </tr>\n",
       "    <tr>\n",
       "      <th>456</th>\n",
       "      <td>URSULA</td>\n",
       "      <td>BIRGIT</td>\n",
       "      <td>MUELLER</td>\n",
       "      <td>NaN</td>\n",
       "      <td>1940</td>\n",
       "      <td>6</td>\n",
       "      <td>15</td>\n",
       "    </tr>\n",
       "    <tr>\n",
       "      <th>465</th>\n",
       "      <td>HELGA</td>\n",
       "      <td>ELFRIEDE</td>\n",
       "      <td>BERGER</td>\n",
       "      <td>NaN</td>\n",
       "      <td>1989</td>\n",
       "      <td>1</td>\n",
       "      <td>28</td>\n",
       "    </tr>\n",
       "    <tr>\n",
       "      <th>466</th>\n",
       "      <td>ULRIKE</td>\n",
       "      <td>NICOLE</td>\n",
       "      <td>BECKRR</td>\n",
       "      <td>NaN</td>\n",
       "      <td>1982</td>\n",
       "      <td>8</td>\n",
       "      <td>4</td>\n",
       "    </tr>\n",
       "    <tr>\n",
       "      <th>471</th>\n",
       "      <td>ULRIKE</td>\n",
       "      <td>NICOLE</td>\n",
       "      <td>BECKER</td>\n",
       "      <td>NaN</td>\n",
       "      <td>1982</td>\n",
       "      <td>8</td>\n",
       "      <td>4</td>\n",
       "    </tr>\n",
       "    <tr>\n",
       "      <th>472</th>\n",
       "      <td>ANNA</td>\n",
       "      <td>GUDRUN</td>\n",
       "      <td>ALBRECHT</td>\n",
       "      <td>NaN</td>\n",
       "      <td>1948</td>\n",
       "      <td>10</td>\n",
       "      <td>30</td>\n",
       "    </tr>\n",
       "  </tbody>\n",
       "</table>\n",
       "</div>"
      ],
      "text/plain": [
       "      fname_c1   fname_c2    lname_c1 lname_c2    by  bm  bd\n",
       "27         JAN    JUERGEN    SCHAEFER      NaN  1946   5  25\n",
       "31   CHRISTIAN       JENS      SCHULZ      NaN  2008   5  18\n",
       "32     ANDREAS      FRANK  SCHUMACHER      NaN  1928   7   7\n",
       "55       PETER   GUENTHER  ZIMMERMANN      NaN  1996   2  10\n",
       "100    MANFRED    ANDREAS      SCHULZ      NaN  1998   4   9\n",
       "195     DIETER      KLAUS     SCHMIDT      NaN  1950   8  20\n",
       "199   GUENTHER  FRIEDRICH        WOLF      NaN  1975   4  23\n",
       "240  CHRISTIAN  ALEXANDER    HERRMANN      NaN  1982   7   9\n",
       "267   GABRIELE     GISELA       MEIER      NaN  1961   4  10\n",
       "276      ERIKA      EDITH      BECKER      NaN  1970   7  12\n",
       "289      HELGA   ELFRIEDE      BERGER      NaN  1989   1  18\n",
       "299     SABINE       ELKE      BRANDT      NaN  1941   5   2\n",
       "312     URSULA     BIRGIT     MUELLRR      NaN  1940   6  15\n",
       "314       ANNA   WALTRAUD     FISCHER      NaN  1958  11  27\n",
       "355   BRIGITTE      EDITH      PETERS      NaN  1956   8  21\n",
       "357      HELGA       ANNA       LANGE      NaN  1965   9   7\n",
       "375       ANNA    BARBARA       FUCHS      NaN  1991   8  27\n",
       "380   ANGELIKA     NICOLE     FISCHER      NaN  1989  10  15\n",
       "385      ERIKA     SABINE     NEUMANN      NaN  1999   5   6\n",
       "408     GISELA   ANGELIKA        WOLF      NaN  1992   5   1\n",
       "417     MONIKA      KARIN      BRANDT      NaN  1940   2  18\n",
       "433       ELKE      SILKE       BAUER      NaN  1994   5  29\n",
       "444       ANJA     URSULA       WEBER      NaN  1995   6  26\n",
       "456     URSULA     BIRGIT     MUELLER      NaN  1940   6  15\n",
       "465      HELGA   ELFRIEDE      BERGER      NaN  1989   1  28\n",
       "466     ULRIKE     NICOLE      BECKRR      NaN  1982   8   4\n",
       "471     ULRIKE     NICOLE      BECKER      NaN  1982   8   4\n",
       "472       ANNA     GUDRUN    ALBRECHT      NaN  1948  10  30"
      ]
     },
     "execution_count": 5,
     "metadata": {},
     "output_type": "execute_result"
    }
   ],
   "source": [
    "rl500[rl500.fname_c2.isnull()==False]"
   ]
  },
  {
   "cell_type": "code",
   "execution_count": 6,
   "metadata": {
    "collapsed": false
   },
   "outputs": [
    {
     "data": {
      "text/html": [
       "<div>\n",
       "<table border=\"1\" class=\"dataframe\">\n",
       "  <thead>\n",
       "    <tr style=\"text-align: right;\">\n",
       "      <th></th>\n",
       "      <th>fname_c1</th>\n",
       "      <th>fname_c2</th>\n",
       "      <th>lname_c1</th>\n",
       "      <th>lname_c2</th>\n",
       "      <th>by</th>\n",
       "      <th>bm</th>\n",
       "      <th>bd</th>\n",
       "    </tr>\n",
       "  </thead>\n",
       "  <tbody>\n",
       "    <tr>\n",
       "      <th>58</th>\n",
       "      <td>BERND</td>\n",
       "      <td>NaN</td>\n",
       "      <td>JUNG</td>\n",
       "      <td>KLEIN</td>\n",
       "      <td>1935</td>\n",
       "      <td>1</td>\n",
       "      <td>14</td>\n",
       "    </tr>\n",
       "    <tr>\n",
       "      <th>172</th>\n",
       "      <td>UWE</td>\n",
       "      <td>NaN</td>\n",
       "      <td>WEBER</td>\n",
       "      <td>ENGEL</td>\n",
       "      <td>1952</td>\n",
       "      <td>7</td>\n",
       "      <td>7</td>\n",
       "    </tr>\n",
       "    <tr>\n",
       "      <th>218</th>\n",
       "      <td>KLAUS</td>\n",
       "      <td>NaN</td>\n",
       "      <td>SCHMIDT</td>\n",
       "      <td>SCHMIDT</td>\n",
       "      <td>1997</td>\n",
       "      <td>12</td>\n",
       "      <td>15</td>\n",
       "    </tr>\n",
       "    <tr>\n",
       "      <th>335</th>\n",
       "      <td>JUTTA</td>\n",
       "      <td>NaN</td>\n",
       "      <td>ROTH</td>\n",
       "      <td>SCHMITT</td>\n",
       "      <td>1995</td>\n",
       "      <td>2</td>\n",
       "      <td>4</td>\n",
       "    </tr>\n",
       "    <tr>\n",
       "      <th>359</th>\n",
       "      <td>BRIGITTE</td>\n",
       "      <td>NaN</td>\n",
       "      <td>WAGNER</td>\n",
       "      <td>SCHULZE</td>\n",
       "      <td>1978</td>\n",
       "      <td>12</td>\n",
       "      <td>11</td>\n",
       "    </tr>\n",
       "    <tr>\n",
       "      <th>418</th>\n",
       "      <td>HEIKE</td>\n",
       "      <td>NaN</td>\n",
       "      <td>OTTO</td>\n",
       "      <td>FISCHER</td>\n",
       "      <td>1944</td>\n",
       "      <td>1</td>\n",
       "      <td>2</td>\n",
       "    </tr>\n",
       "    <tr>\n",
       "      <th>454</th>\n",
       "      <td>JUTTA</td>\n",
       "      <td>NaN</td>\n",
       "      <td>LEHMANN</td>\n",
       "      <td>SCHULZ</td>\n",
       "      <td>1974</td>\n",
       "      <td>11</td>\n",
       "      <td>7</td>\n",
       "    </tr>\n",
       "    <tr>\n",
       "      <th>478</th>\n",
       "      <td>JUTTA</td>\n",
       "      <td>NaN</td>\n",
       "      <td>WEBER</td>\n",
       "      <td>KRUEGER</td>\n",
       "      <td>2007</td>\n",
       "      <td>9</td>\n",
       "      <td>28</td>\n",
       "    </tr>\n",
       "  </tbody>\n",
       "</table>\n",
       "</div>"
      ],
      "text/plain": [
       "     fname_c1 fname_c2 lname_c1 lname_c2    by  bm  bd\n",
       "58      BERND      NaN     JUNG    KLEIN  1935   1  14\n",
       "172       UWE      NaN    WEBER    ENGEL  1952   7   7\n",
       "218     KLAUS      NaN  SCHMIDT  SCHMIDT  1997  12  15\n",
       "335     JUTTA      NaN     ROTH  SCHMITT  1995   2   4\n",
       "359  BRIGITTE      NaN   WAGNER  SCHULZE  1978  12  11\n",
       "418     HEIKE      NaN     OTTO  FISCHER  1944   1   2\n",
       "454     JUTTA      NaN  LEHMANN   SCHULZ  1974  11   7\n",
       "478     JUTTA      NaN    WEBER  KRUEGER  2007   9  28"
      ]
     },
     "execution_count": 6,
     "metadata": {},
     "output_type": "execute_result"
    }
   ],
   "source": [
    "rl500[rl500.lname_c2.isnull()==False]"
   ]
  },
  {
   "cell_type": "markdown",
   "metadata": {},
   "source": [
    "### Probabilistic Record Linkage"
   ]
  },
  {
   "cell_type": "markdown",
   "metadata": {},
   "source": [
    "The goal of the probabilistic record linkage approach is to identify potential record pairs match by comparing each field from the record pair. There is often the case that when two records of an individual came from different data sources, not all fields are matched, for example, only lastname and birth date matches while firstname does not match because of data input error. Still, we should match these two records as they are considered the same person. In fact, based on individual field match between two record pairs, we will be able to calculate probabilities that the two records represent the same person.\n",
    "\n",
    "The theoretical framework behind the probabilistic record linkage is conditional probabilities. We can model the problem using conditional probabilities as below:"
   ]
  },
  {
   "cell_type": "markdown",
   "metadata": {
    "collapsed": true
   },
   "source": [
    "Let M is the event where two records represent the same person (matched pair)\n",
    "Let D is the event where two records  represent the different person (non-matched pair)\n",
    "Let x1, x2, x3, ... xn are the events that two fields agree (for each of the n fields)\n",
    "\n",
    "Hence, we can define the following probabilities:<br/>\n",
    "    $ P(M|x_1,...,x_n) $ denotes probability that two records are matched given the fields $ x_1,...,x_n $ matches <br/>\n",
    "   $ P(D|x_1,...,x_n) $ denotes probability that two records are not matched given the fiedls $ x_1,....,x_n $ matches <br/>\n",
    "   $ P(x_1|M) $ denotes probability that the field $ x_1 $ matches given two records are matched, we will represent this as m <br/>\n",
    "   $ P(x_1|D) $ denotes probability that the field $ x_1 $ matches given two records are different, we will represent this as u\n",
    "    \n",
    "To decide whether a record pair is a match or not, we have to determines the probability $ P(M|x_1,...,x_n) $ vs $ P(D|x_1,...,x_n) $. That is, a record pair is a match if \n",
    "\n",
    "$$ P(M|x_1,...,x_n) > P(D|x_1,...,x_n) $$\n",
    "\n",
    "Using Bayes' rule and the independent assumption, we have:\n",
    "\n",
    "$$ \\frac {P(x_1|M)P(x_2|M)...P(x_n|M) * P(M)} {P(x)}  > \\frac {P(x_1|D)P(x_2|D)...P(x_n|D) * P(D)} {P(x)} $$\n",
    "\n",
    "We can rewrite the equation above as:\n",
    "\n",
    "$$ \\frac {P(M) \\prod_{i=1}^n P(x_i|M)} {P(x)} > \\frac {P(D) \\prod_{i=1}^n P(x_i|D)} {P(x)} $$\n",
    "\n",
    "$ P(x) $ can be cancelled out on both side and we takes logarithm on both sides:\n",
    "$$ ln(P(M)\\prod_{i=1}^n P(x_i|M))> ln(P(D)\\prod_{i=1}^n P(x_i|D)) $$\n",
    "\n",
    "and\n",
    "$$ ln(P(M)) + \\sum_{i=1}^n ln(P(x_i|M))> ln(P(D)) + \\sum_{i=1}^n ln(P(x_i|D)) $$\n",
    "\n",
    "We will have\n",
    "$$ \\sum_{i=1}^n (ln(P(x_i|M) - ln(P(x_i|D)) > ln(P(D)) - ln(P(M)) $$\n"
   ]
  },
  {
   "cell_type": "markdown",
   "metadata": {
    "collapsed": true
   },
   "source": [
    "As $ P(x_i|M) $ or $ m $ as we defined above is the probability that field $ x_i $ match given the record match, the probability that the field $ x_i $ does not match given the record pair match is $ (1-m) $. Hence, the probability that the field $ x_i $ does not match give the record pair is not match is $ (1-u) $.\n",
    "\n",
    "We can say that if the field match the term $ (ln(P(x_i|M) - ln(P(x_i|D)) = ln(m_i) - ln(u_i) $ <br/>\n",
    "and that if the field differ the term $ (ln(P(x_i|M) - ln(P(x_i|D)) = ln(1-m_i) - ln(1-u_i) $"
   ]
  },
  {
   "cell_type": "markdown",
   "metadata": {},
   "source": [
    "Lastly, we can define $ ln(P(D)) - ln(P(M)) $ as a constant lambda $ \\lambda $ and refer to it as threshold value, so if the calculation on the left-handed side of the equation exceeds threshold, we can say that the two record pair are likely to be matching pair. \n",
    "\n",
    "In practice, we usually define the threshold into three region: non-match, questionable match and match, and output those questionable match pairs for manual clerical review (expert review to identify if the pair should be matched since the system cannot decide)\n",
    "\n"
   ]
  },
  {
   "cell_type": "markdown",
   "metadata": {},
   "source": [
    "In conclustion, we can summarize the probabilistic record linkage model as: <br/>\n",
    "\n",
    "$ \\sum_{i=1}^n $<br/>\n",
    "$ ln(m_i) - ln(u_i), if x_i agrees $ <br/>\n",
    "$ ln(1-m_i) - ln(1-u_i), if x_i disagrees $"
   ]
  },
  {
   "cell_type": "markdown",
   "metadata": {},
   "source": [
    "### Implementation"
   ]
  },
  {
   "cell_type": "markdown",
   "metadata": {},
   "source": [
    "#### Defining m-probability and u-probability\n",
    "From the model, we only need to define m-probability and u-probability\n",
    "\n",
    "Recall that<br/>\n",
    "   m-probability or $ P(x_1|M) $ is the probability that the field $ x_1 $ matches given two records are matched<br/>\n",
    "   u-probability or $ P(x_1|D) $ is the probability that the field $ x_1 $ matches given two records are different<br/>\n",
    "   \n",
    "m-probability is defined by prior knowledge about the dataset. By default, we set m-probability = 0.95 and we can adjust the value later no as we learn more about the data\n",
    "\n",
    "u-probability, in contrast, can be calculated from the dataset. In fact, it is the probability that the field match by chance given the record pair is differing. For example, if we compares 'birth month' field, there is 1/12 chance that two differing records could contain the same birth month since there are 12 months in total. We can apply this same approach in every field in the comparing set."
   ]
  },
  {
   "cell_type": "code",
   "execution_count": 7,
   "metadata": {
    "collapsed": true
   },
   "outputs": [],
   "source": [
    "# U-probability is the proportion of unique value in the field from dataset\n",
    "def calc_u_prob(field, df):\n",
    "    return 1 / float(len(df[field].unique()))\n",
    "\n",
    "def calc_m_prob(field, df):\n",
    "    return 0.95"
   ]
  },
  {
   "cell_type": "code",
   "execution_count": 8,
   "metadata": {
    "collapsed": true
   },
   "outputs": [],
   "source": [
    "# Agreement and Disagreement weight formula based on the model\n",
    "import math\n",
    "def agreement_weight(m, u):\n",
    "    return math.log(m / u ,2)\n",
    "    \n",
    "def disagreement_weight(m, u):\n",
    "    return math.log((1-m)/(1-u),2)"
   ]
  },
  {
   "cell_type": "code",
   "execution_count": 9,
   "metadata": {
    "collapsed": true
   },
   "outputs": [],
   "source": [
    "def field_weight(field, comp):\n",
    "    if comp:\n",
    "        weight = agreement_weight(m_prob[field], u_prob[field])\n",
    "    else:\n",
    "        weight = disagreement_weight(m_prob[field], u_prob[field])\n",
    "    return weight"
   ]
  },
  {
   "cell_type": "code",
   "execution_count": 10,
   "metadata": {
    "collapsed": true
   },
   "outputs": [],
   "source": [
    "# Add unique identifier to each row\n",
    "rl500['identifier'] = rl500.index"
   ]
  },
  {
   "cell_type": "code",
   "execution_count": 12,
   "metadata": {
    "collapsed": true
   },
   "outputs": [],
   "source": [
    "# Create dummy field to perform cartesian product using Pandas Merge\n",
    "rl500['key'] = 1"
   ]
  },
  {
   "cell_type": "code",
   "execution_count": 13,
   "metadata": {
    "collapsed": false
   },
   "outputs": [],
   "source": [
    "rl500_pairs = pd.merge(rl500, rl500, on='key')"
   ]
  },
  {
   "cell_type": "code",
   "execution_count": 14,
   "metadata": {
    "collapsed": false
   },
   "outputs": [
    {
     "data": {
      "text/plain": [
       "((250000, 17), (500, 9))"
      ]
     },
     "execution_count": 14,
     "metadata": {},
     "output_type": "execute_result"
    }
   ],
   "source": [
    "rl500_pairs.shape, rl500.shape"
   ]
  },
  {
   "cell_type": "code",
   "execution_count": 15,
   "metadata": {
    "collapsed": false
   },
   "outputs": [
    {
     "data": {
      "text/html": [
       "<div>\n",
       "<table border=\"1\" class=\"dataframe\">\n",
       "  <thead>\n",
       "    <tr style=\"text-align: right;\">\n",
       "      <th></th>\n",
       "      <th>fname_c1_x</th>\n",
       "      <th>fname_c2_x</th>\n",
       "      <th>lname_c1_x</th>\n",
       "      <th>lname_c2_x</th>\n",
       "      <th>by_x</th>\n",
       "      <th>bm_x</th>\n",
       "      <th>bd_x</th>\n",
       "      <th>identifier_x</th>\n",
       "      <th>key</th>\n",
       "      <th>fname_c1_y</th>\n",
       "      <th>fname_c2_y</th>\n",
       "      <th>lname_c1_y</th>\n",
       "      <th>lname_c2_y</th>\n",
       "      <th>by_y</th>\n",
       "      <th>bm_y</th>\n",
       "      <th>bd_y</th>\n",
       "      <th>identifier_y</th>\n",
       "    </tr>\n",
       "  </thead>\n",
       "  <tbody>\n",
       "    <tr>\n",
       "      <th>0</th>\n",
       "      <td>CARSTEN</td>\n",
       "      <td>NaN</td>\n",
       "      <td>MEIER</td>\n",
       "      <td>NaN</td>\n",
       "      <td>1949</td>\n",
       "      <td>7</td>\n",
       "      <td>22</td>\n",
       "      <td>0</td>\n",
       "      <td>1</td>\n",
       "      <td>CARSTEN</td>\n",
       "      <td>NaN</td>\n",
       "      <td>MEIER</td>\n",
       "      <td>NaN</td>\n",
       "      <td>1949</td>\n",
       "      <td>7</td>\n",
       "      <td>22</td>\n",
       "      <td>0</td>\n",
       "    </tr>\n",
       "    <tr>\n",
       "      <th>1</th>\n",
       "      <td>CARSTEN</td>\n",
       "      <td>NaN</td>\n",
       "      <td>MEIER</td>\n",
       "      <td>NaN</td>\n",
       "      <td>1949</td>\n",
       "      <td>7</td>\n",
       "      <td>22</td>\n",
       "      <td>0</td>\n",
       "      <td>1</td>\n",
       "      <td>GERD</td>\n",
       "      <td>NaN</td>\n",
       "      <td>BAUER</td>\n",
       "      <td>NaN</td>\n",
       "      <td>1968</td>\n",
       "      <td>7</td>\n",
       "      <td>27</td>\n",
       "      <td>1</td>\n",
       "    </tr>\n",
       "    <tr>\n",
       "      <th>2</th>\n",
       "      <td>CARSTEN</td>\n",
       "      <td>NaN</td>\n",
       "      <td>MEIER</td>\n",
       "      <td>NaN</td>\n",
       "      <td>1949</td>\n",
       "      <td>7</td>\n",
       "      <td>22</td>\n",
       "      <td>0</td>\n",
       "      <td>1</td>\n",
       "      <td>ROBERT</td>\n",
       "      <td>NaN</td>\n",
       "      <td>HARTMANN</td>\n",
       "      <td>NaN</td>\n",
       "      <td>1930</td>\n",
       "      <td>4</td>\n",
       "      <td>30</td>\n",
       "      <td>2</td>\n",
       "    </tr>\n",
       "    <tr>\n",
       "      <th>3</th>\n",
       "      <td>CARSTEN</td>\n",
       "      <td>NaN</td>\n",
       "      <td>MEIER</td>\n",
       "      <td>NaN</td>\n",
       "      <td>1949</td>\n",
       "      <td>7</td>\n",
       "      <td>22</td>\n",
       "      <td>0</td>\n",
       "      <td>1</td>\n",
       "      <td>STEFAN</td>\n",
       "      <td>NaN</td>\n",
       "      <td>WOLFF</td>\n",
       "      <td>NaN</td>\n",
       "      <td>1957</td>\n",
       "      <td>9</td>\n",
       "      <td>2</td>\n",
       "      <td>3</td>\n",
       "    </tr>\n",
       "    <tr>\n",
       "      <th>4</th>\n",
       "      <td>CARSTEN</td>\n",
       "      <td>NaN</td>\n",
       "      <td>MEIER</td>\n",
       "      <td>NaN</td>\n",
       "      <td>1949</td>\n",
       "      <td>7</td>\n",
       "      <td>22</td>\n",
       "      <td>0</td>\n",
       "      <td>1</td>\n",
       "      <td>RALF</td>\n",
       "      <td>NaN</td>\n",
       "      <td>KRUEGER</td>\n",
       "      <td>NaN</td>\n",
       "      <td>1966</td>\n",
       "      <td>1</td>\n",
       "      <td>13</td>\n",
       "      <td>4</td>\n",
       "    </tr>\n",
       "  </tbody>\n",
       "</table>\n",
       "</div>"
      ],
      "text/plain": [
       "  fname_c1_x fname_c2_x lname_c1_x lname_c2_x  by_x  bm_x  bd_x  identifier_x  \\\n",
       "0    CARSTEN        NaN      MEIER        NaN  1949     7    22             0   \n",
       "1    CARSTEN        NaN      MEIER        NaN  1949     7    22             0   \n",
       "2    CARSTEN        NaN      MEIER        NaN  1949     7    22             0   \n",
       "3    CARSTEN        NaN      MEIER        NaN  1949     7    22             0   \n",
       "4    CARSTEN        NaN      MEIER        NaN  1949     7    22             0   \n",
       "\n",
       "   key fname_c1_y fname_c2_y lname_c1_y lname_c2_y  by_y  bm_y  bd_y  \\\n",
       "0    1    CARSTEN        NaN      MEIER        NaN  1949     7    22   \n",
       "1    1       GERD        NaN      BAUER        NaN  1968     7    27   \n",
       "2    1     ROBERT        NaN   HARTMANN        NaN  1930     4    30   \n",
       "3    1     STEFAN        NaN      WOLFF        NaN  1957     9     2   \n",
       "4    1       RALF        NaN    KRUEGER        NaN  1966     1    13   \n",
       "\n",
       "   identifier_y  \n",
       "0             0  \n",
       "1             1  \n",
       "2             2  \n",
       "3             3  \n",
       "4             4  "
      ]
     },
     "execution_count": 15,
     "metadata": {},
     "output_type": "execute_result"
    }
   ],
   "source": [
    "rl500_pairs.head()"
   ]
  },
  {
   "cell_type": "code",
   "execution_count": 16,
   "metadata": {
    "collapsed": true
   },
   "outputs": [],
   "source": [
    "# Remove self-comparison pair\n",
    "rl500_pairs = rl500_pairs[rl500_pairs.identifier_x != rl500_pairs.identifier_y]"
   ]
  },
  {
   "cell_type": "code",
   "execution_count": 59,
   "metadata": {
    "collapsed": false
   },
   "outputs": [
    {
     "data": {
      "text/html": [
       "<div>\n",
       "<table border=\"1\" class=\"dataframe\">\n",
       "  <thead>\n",
       "    <tr style=\"text-align: right;\">\n",
       "      <th></th>\n",
       "      <th>fname_c1_x</th>\n",
       "      <th>fname_c2_x</th>\n",
       "      <th>lname_c1_x</th>\n",
       "      <th>lname_c2_x</th>\n",
       "      <th>by_x</th>\n",
       "      <th>bm_x</th>\n",
       "      <th>bd_x</th>\n",
       "      <th>identifier_x</th>\n",
       "      <th>key</th>\n",
       "      <th>fname_c1_y</th>\n",
       "      <th>fname_c2_y</th>\n",
       "      <th>lname_c1_y</th>\n",
       "      <th>lname_c2_y</th>\n",
       "      <th>by_y</th>\n",
       "      <th>bm_y</th>\n",
       "      <th>bd_y</th>\n",
       "      <th>identifier_y</th>\n",
       "    </tr>\n",
       "  </thead>\n",
       "  <tbody>\n",
       "    <tr>\n",
       "      <th>1</th>\n",
       "      <td>CARSTEN</td>\n",
       "      <td>NaN</td>\n",
       "      <td>MEIER</td>\n",
       "      <td>NaN</td>\n",
       "      <td>1949</td>\n",
       "      <td>7</td>\n",
       "      <td>22</td>\n",
       "      <td>0</td>\n",
       "      <td>1</td>\n",
       "      <td>GERD</td>\n",
       "      <td>NaN</td>\n",
       "      <td>BAUER</td>\n",
       "      <td>NaN</td>\n",
       "      <td>1968</td>\n",
       "      <td>7</td>\n",
       "      <td>27</td>\n",
       "      <td>1</td>\n",
       "    </tr>\n",
       "    <tr>\n",
       "      <th>2</th>\n",
       "      <td>CARSTEN</td>\n",
       "      <td>NaN</td>\n",
       "      <td>MEIER</td>\n",
       "      <td>NaN</td>\n",
       "      <td>1949</td>\n",
       "      <td>7</td>\n",
       "      <td>22</td>\n",
       "      <td>0</td>\n",
       "      <td>1</td>\n",
       "      <td>ROBERT</td>\n",
       "      <td>NaN</td>\n",
       "      <td>HARTMANN</td>\n",
       "      <td>NaN</td>\n",
       "      <td>1930</td>\n",
       "      <td>4</td>\n",
       "      <td>30</td>\n",
       "      <td>2</td>\n",
       "    </tr>\n",
       "    <tr>\n",
       "      <th>3</th>\n",
       "      <td>CARSTEN</td>\n",
       "      <td>NaN</td>\n",
       "      <td>MEIER</td>\n",
       "      <td>NaN</td>\n",
       "      <td>1949</td>\n",
       "      <td>7</td>\n",
       "      <td>22</td>\n",
       "      <td>0</td>\n",
       "      <td>1</td>\n",
       "      <td>STEFAN</td>\n",
       "      <td>NaN</td>\n",
       "      <td>WOLFF</td>\n",
       "      <td>NaN</td>\n",
       "      <td>1957</td>\n",
       "      <td>9</td>\n",
       "      <td>2</td>\n",
       "      <td>3</td>\n",
       "    </tr>\n",
       "    <tr>\n",
       "      <th>4</th>\n",
       "      <td>CARSTEN</td>\n",
       "      <td>NaN</td>\n",
       "      <td>MEIER</td>\n",
       "      <td>NaN</td>\n",
       "      <td>1949</td>\n",
       "      <td>7</td>\n",
       "      <td>22</td>\n",
       "      <td>0</td>\n",
       "      <td>1</td>\n",
       "      <td>RALF</td>\n",
       "      <td>NaN</td>\n",
       "      <td>KRUEGER</td>\n",
       "      <td>NaN</td>\n",
       "      <td>1966</td>\n",
       "      <td>1</td>\n",
       "      <td>13</td>\n",
       "      <td>4</td>\n",
       "    </tr>\n",
       "    <tr>\n",
       "      <th>5</th>\n",
       "      <td>CARSTEN</td>\n",
       "      <td>NaN</td>\n",
       "      <td>MEIER</td>\n",
       "      <td>NaN</td>\n",
       "      <td>1949</td>\n",
       "      <td>7</td>\n",
       "      <td>22</td>\n",
       "      <td>0</td>\n",
       "      <td>1</td>\n",
       "      <td>JUERGEN</td>\n",
       "      <td>NaN</td>\n",
       "      <td>FRANKE</td>\n",
       "      <td>NaN</td>\n",
       "      <td>1929</td>\n",
       "      <td>7</td>\n",
       "      <td>4</td>\n",
       "      <td>5</td>\n",
       "    </tr>\n",
       "  </tbody>\n",
       "</table>\n",
       "</div>"
      ],
      "text/plain": [
       "  fname_c1_x fname_c2_x lname_c1_x lname_c2_x  by_x  bm_x  bd_x  identifier_x  \\\n",
       "1    CARSTEN        NaN      MEIER        NaN  1949     7    22             0   \n",
       "2    CARSTEN        NaN      MEIER        NaN  1949     7    22             0   \n",
       "3    CARSTEN        NaN      MEIER        NaN  1949     7    22             0   \n",
       "4    CARSTEN        NaN      MEIER        NaN  1949     7    22             0   \n",
       "5    CARSTEN        NaN      MEIER        NaN  1949     7    22             0   \n",
       "\n",
       "   key fname_c1_y fname_c2_y lname_c1_y lname_c2_y  by_y  bm_y  bd_y  \\\n",
       "1    1       GERD        NaN      BAUER        NaN  1968     7    27   \n",
       "2    1     ROBERT        NaN   HARTMANN        NaN  1930     4    30   \n",
       "3    1     STEFAN        NaN      WOLFF        NaN  1957     9     2   \n",
       "4    1       RALF        NaN    KRUEGER        NaN  1966     1    13   \n",
       "5    1    JUERGEN        NaN     FRANKE        NaN  1929     7     4   \n",
       "\n",
       "   identifier_y  \n",
       "1             1  \n",
       "2             2  \n",
       "3             3  \n",
       "4             4  \n",
       "5             5  "
      ]
     },
     "execution_count": 59,
     "metadata": {},
     "output_type": "execute_result"
    }
   ],
   "source": [
    "rl500_pairs.head()"
   ]
  },
  {
   "cell_type": "code",
   "execution_count": 66,
   "metadata": {
    "collapsed": true
   },
   "outputs": [],
   "source": [
    "rl500_pairs = rl500_pairs.reset_index()"
   ]
  },
  {
   "cell_type": "code",
   "execution_count": 67,
   "metadata": {
    "collapsed": false
   },
   "outputs": [
    {
     "data": {
      "text/plain": [
       "(249500, 18)"
      ]
     },
     "execution_count": 67,
     "metadata": {},
     "output_type": "execute_result"
    }
   ],
   "source": [
    "rl500_pairs.shape"
   ]
  },
  {
   "cell_type": "code",
   "execution_count": 69,
   "metadata": {
    "collapsed": false
   },
   "outputs": [
    {
     "data": {
      "text/html": [
       "<div>\n",
       "<table border=\"1\" class=\"dataframe\">\n",
       "  <thead>\n",
       "    <tr style=\"text-align: right;\">\n",
       "      <th></th>\n",
       "      <th>index</th>\n",
       "      <th>fname_c1_x</th>\n",
       "      <th>fname_c2_x</th>\n",
       "      <th>lname_c1_x</th>\n",
       "      <th>lname_c2_x</th>\n",
       "      <th>by_x</th>\n",
       "      <th>bm_x</th>\n",
       "      <th>bd_x</th>\n",
       "      <th>identifier_x</th>\n",
       "      <th>key</th>\n",
       "      <th>fname_c1_y</th>\n",
       "      <th>fname_c2_y</th>\n",
       "      <th>lname_c1_y</th>\n",
       "      <th>lname_c2_y</th>\n",
       "      <th>by_y</th>\n",
       "      <th>bm_y</th>\n",
       "      <th>bd_y</th>\n",
       "      <th>identifier_y</th>\n",
       "    </tr>\n",
       "  </thead>\n",
       "  <tbody>\n",
       "    <tr>\n",
       "      <th>0</th>\n",
       "      <td>1</td>\n",
       "      <td>CARSTEN</td>\n",
       "      <td>NaN</td>\n",
       "      <td>MEIER</td>\n",
       "      <td>NaN</td>\n",
       "      <td>1949</td>\n",
       "      <td>7</td>\n",
       "      <td>22</td>\n",
       "      <td>0</td>\n",
       "      <td>1</td>\n",
       "      <td>GERD</td>\n",
       "      <td>NaN</td>\n",
       "      <td>BAUER</td>\n",
       "      <td>NaN</td>\n",
       "      <td>1968</td>\n",
       "      <td>7</td>\n",
       "      <td>27</td>\n",
       "      <td>1</td>\n",
       "    </tr>\n",
       "    <tr>\n",
       "      <th>1</th>\n",
       "      <td>2</td>\n",
       "      <td>CARSTEN</td>\n",
       "      <td>NaN</td>\n",
       "      <td>MEIER</td>\n",
       "      <td>NaN</td>\n",
       "      <td>1949</td>\n",
       "      <td>7</td>\n",
       "      <td>22</td>\n",
       "      <td>0</td>\n",
       "      <td>1</td>\n",
       "      <td>ROBERT</td>\n",
       "      <td>NaN</td>\n",
       "      <td>HARTMANN</td>\n",
       "      <td>NaN</td>\n",
       "      <td>1930</td>\n",
       "      <td>4</td>\n",
       "      <td>30</td>\n",
       "      <td>2</td>\n",
       "    </tr>\n",
       "    <tr>\n",
       "      <th>2</th>\n",
       "      <td>3</td>\n",
       "      <td>CARSTEN</td>\n",
       "      <td>NaN</td>\n",
       "      <td>MEIER</td>\n",
       "      <td>NaN</td>\n",
       "      <td>1949</td>\n",
       "      <td>7</td>\n",
       "      <td>22</td>\n",
       "      <td>0</td>\n",
       "      <td>1</td>\n",
       "      <td>STEFAN</td>\n",
       "      <td>NaN</td>\n",
       "      <td>WOLFF</td>\n",
       "      <td>NaN</td>\n",
       "      <td>1957</td>\n",
       "      <td>9</td>\n",
       "      <td>2</td>\n",
       "      <td>3</td>\n",
       "    </tr>\n",
       "    <tr>\n",
       "      <th>3</th>\n",
       "      <td>4</td>\n",
       "      <td>CARSTEN</td>\n",
       "      <td>NaN</td>\n",
       "      <td>MEIER</td>\n",
       "      <td>NaN</td>\n",
       "      <td>1949</td>\n",
       "      <td>7</td>\n",
       "      <td>22</td>\n",
       "      <td>0</td>\n",
       "      <td>1</td>\n",
       "      <td>RALF</td>\n",
       "      <td>NaN</td>\n",
       "      <td>KRUEGER</td>\n",
       "      <td>NaN</td>\n",
       "      <td>1966</td>\n",
       "      <td>1</td>\n",
       "      <td>13</td>\n",
       "      <td>4</td>\n",
       "    </tr>\n",
       "    <tr>\n",
       "      <th>4</th>\n",
       "      <td>5</td>\n",
       "      <td>CARSTEN</td>\n",
       "      <td>NaN</td>\n",
       "      <td>MEIER</td>\n",
       "      <td>NaN</td>\n",
       "      <td>1949</td>\n",
       "      <td>7</td>\n",
       "      <td>22</td>\n",
       "      <td>0</td>\n",
       "      <td>1</td>\n",
       "      <td>JUERGEN</td>\n",
       "      <td>NaN</td>\n",
       "      <td>FRANKE</td>\n",
       "      <td>NaN</td>\n",
       "      <td>1929</td>\n",
       "      <td>7</td>\n",
       "      <td>4</td>\n",
       "      <td>5</td>\n",
       "    </tr>\n",
       "  </tbody>\n",
       "</table>\n",
       "</div>"
      ],
      "text/plain": [
       "   index fname_c1_x fname_c2_x lname_c1_x lname_c2_x  by_x  bm_x  bd_x  \\\n",
       "0      1    CARSTEN        NaN      MEIER        NaN  1949     7    22   \n",
       "1      2    CARSTEN        NaN      MEIER        NaN  1949     7    22   \n",
       "2      3    CARSTEN        NaN      MEIER        NaN  1949     7    22   \n",
       "3      4    CARSTEN        NaN      MEIER        NaN  1949     7    22   \n",
       "4      5    CARSTEN        NaN      MEIER        NaN  1949     7    22   \n",
       "\n",
       "   identifier_x  key fname_c1_y fname_c2_y lname_c1_y lname_c2_y  by_y  bm_y  \\\n",
       "0             0    1       GERD        NaN      BAUER        NaN  1968     7   \n",
       "1             0    1     ROBERT        NaN   HARTMANN        NaN  1930     4   \n",
       "2             0    1     STEFAN        NaN      WOLFF        NaN  1957     9   \n",
       "3             0    1       RALF        NaN    KRUEGER        NaN  1966     1   \n",
       "4             0    1    JUERGEN        NaN     FRANKE        NaN  1929     7   \n",
       "\n",
       "   bd_y  identifier_y  \n",
       "0    27             1  \n",
       "1    30             2  \n",
       "2     2             3  \n",
       "3    13             4  \n",
       "4     4             5  "
      ]
     },
     "execution_count": 69,
     "metadata": {},
     "output_type": "execute_result"
    }
   ],
   "source": [
    "rl500_pairs.head()"
   ]
  },
  {
   "cell_type": "code",
   "execution_count": 70,
   "metadata": {
    "collapsed": false
   },
   "outputs": [],
   "source": [
    "# Split data into 2 dataframes\n",
    "# We drop fname_c2 and lname_c2 here as there are many missing value in those two fields\n",
    "df_a = rl500_pairs[['fname_c1_x','lname_c1_x','by_x','bm_x','bd_x']]\n",
    "df_b = rl500_pairs[['fname_c1_y','lname_c1_y','by_y','bm_y','bd_y']]"
   ]
  },
  {
   "cell_type": "code",
   "execution_count": 71,
   "metadata": {
    "collapsed": true
   },
   "outputs": [],
   "source": [
    "column_name = ['fname_c1','lname_c1','by','bm','bd']\n",
    "df_a.columns = column_name\n",
    "df_b.columns = column_name"
   ]
  },
  {
   "cell_type": "code",
   "execution_count": 72,
   "metadata": {
    "collapsed": false
   },
   "outputs": [
    {
     "data": {
      "text/plain": [
       "((249500, 5), (249500, 5))"
      ]
     },
     "execution_count": 72,
     "metadata": {},
     "output_type": "execute_result"
    }
   ],
   "source": [
    "df_a.shape, df_b.shape"
   ]
  },
  {
   "cell_type": "code",
   "execution_count": 73,
   "metadata": {
    "collapsed": false
   },
   "outputs": [
    {
     "data": {
      "text/html": [
       "<div>\n",
       "<table border=\"1\" class=\"dataframe\">\n",
       "  <thead>\n",
       "    <tr style=\"text-align: right;\">\n",
       "      <th></th>\n",
       "      <th>fname_c1</th>\n",
       "      <th>lname_c1</th>\n",
       "      <th>by</th>\n",
       "      <th>bm</th>\n",
       "      <th>bd</th>\n",
       "    </tr>\n",
       "  </thead>\n",
       "  <tbody>\n",
       "    <tr>\n",
       "      <th>0</th>\n",
       "      <td>CARSTEN</td>\n",
       "      <td>MEIER</td>\n",
       "      <td>1949</td>\n",
       "      <td>7</td>\n",
       "      <td>22</td>\n",
       "    </tr>\n",
       "    <tr>\n",
       "      <th>1</th>\n",
       "      <td>CARSTEN</td>\n",
       "      <td>MEIER</td>\n",
       "      <td>1949</td>\n",
       "      <td>7</td>\n",
       "      <td>22</td>\n",
       "    </tr>\n",
       "    <tr>\n",
       "      <th>2</th>\n",
       "      <td>CARSTEN</td>\n",
       "      <td>MEIER</td>\n",
       "      <td>1949</td>\n",
       "      <td>7</td>\n",
       "      <td>22</td>\n",
       "    </tr>\n",
       "    <tr>\n",
       "      <th>3</th>\n",
       "      <td>CARSTEN</td>\n",
       "      <td>MEIER</td>\n",
       "      <td>1949</td>\n",
       "      <td>7</td>\n",
       "      <td>22</td>\n",
       "    </tr>\n",
       "    <tr>\n",
       "      <th>4</th>\n",
       "      <td>CARSTEN</td>\n",
       "      <td>MEIER</td>\n",
       "      <td>1949</td>\n",
       "      <td>7</td>\n",
       "      <td>22</td>\n",
       "    </tr>\n",
       "  </tbody>\n",
       "</table>\n",
       "</div>"
      ],
      "text/plain": [
       "  fname_c1 lname_c1    by  bm  bd\n",
       "0  CARSTEN    MEIER  1949   7  22\n",
       "1  CARSTEN    MEIER  1949   7  22\n",
       "2  CARSTEN    MEIER  1949   7  22\n",
       "3  CARSTEN    MEIER  1949   7  22\n",
       "4  CARSTEN    MEIER  1949   7  22"
      ]
     },
     "execution_count": 73,
     "metadata": {},
     "output_type": "execute_result"
    }
   ],
   "source": [
    "df_a.head()"
   ]
  },
  {
   "cell_type": "code",
   "execution_count": 74,
   "metadata": {
    "collapsed": false
   },
   "outputs": [
    {
     "data": {
      "text/html": [
       "<div>\n",
       "<table border=\"1\" class=\"dataframe\">\n",
       "  <thead>\n",
       "    <tr style=\"text-align: right;\">\n",
       "      <th></th>\n",
       "      <th>fname_c1</th>\n",
       "      <th>lname_c1</th>\n",
       "      <th>by</th>\n",
       "      <th>bm</th>\n",
       "      <th>bd</th>\n",
       "    </tr>\n",
       "  </thead>\n",
       "  <tbody>\n",
       "    <tr>\n",
       "      <th>0</th>\n",
       "      <td>GERD</td>\n",
       "      <td>BAUER</td>\n",
       "      <td>1968</td>\n",
       "      <td>7</td>\n",
       "      <td>27</td>\n",
       "    </tr>\n",
       "    <tr>\n",
       "      <th>1</th>\n",
       "      <td>ROBERT</td>\n",
       "      <td>HARTMANN</td>\n",
       "      <td>1930</td>\n",
       "      <td>4</td>\n",
       "      <td>30</td>\n",
       "    </tr>\n",
       "    <tr>\n",
       "      <th>2</th>\n",
       "      <td>STEFAN</td>\n",
       "      <td>WOLFF</td>\n",
       "      <td>1957</td>\n",
       "      <td>9</td>\n",
       "      <td>2</td>\n",
       "    </tr>\n",
       "    <tr>\n",
       "      <th>3</th>\n",
       "      <td>RALF</td>\n",
       "      <td>KRUEGER</td>\n",
       "      <td>1966</td>\n",
       "      <td>1</td>\n",
       "      <td>13</td>\n",
       "    </tr>\n",
       "    <tr>\n",
       "      <th>4</th>\n",
       "      <td>JUERGEN</td>\n",
       "      <td>FRANKE</td>\n",
       "      <td>1929</td>\n",
       "      <td>7</td>\n",
       "      <td>4</td>\n",
       "    </tr>\n",
       "  </tbody>\n",
       "</table>\n",
       "</div>"
      ],
      "text/plain": [
       "  fname_c1  lname_c1    by  bm  bd\n",
       "0     GERD     BAUER  1968   7  27\n",
       "1   ROBERT  HARTMANN  1930   4  30\n",
       "2   STEFAN     WOLFF  1957   9   2\n",
       "3     RALF   KRUEGER  1966   1  13\n",
       "4  JUERGEN    FRANKE  1929   7   4"
      ]
     },
     "execution_count": 74,
     "metadata": {},
     "output_type": "execute_result"
    }
   ],
   "source": [
    "df_b.head()"
   ]
  },
  {
   "cell_type": "code",
   "execution_count": 75,
   "metadata": {
    "collapsed": true
   },
   "outputs": [],
   "source": [
    "u_prob = {}\n",
    "m_prob = {}\n",
    "columns = df_a.columns.tolist()\n",
    "# Create U-probability table (dataframe) : frequency count of source table\n",
    "for col in columns:\n",
    "    u_prob[col] = calc_u_prob(col, df_a)\n",
    "    m_prob[col] = calc_m_prob(col, df_a)"
   ]
  },
  {
   "cell_type": "code",
   "execution_count": 76,
   "metadata": {
    "collapsed": false
   },
   "outputs": [
    {
     "data": {
      "text/plain": [
       "({'bd': 0.03225806451612903,\n",
       "  'bm': 0.08333333333333333,\n",
       "  'by': 0.011627906976744186,\n",
       "  'fname_c1': 0.00684931506849315,\n",
       "  'lname_c1': 0.009259259259259259},\n",
       " {'bd': 0.95, 'bm': 0.95, 'by': 0.95, 'fname_c1': 0.95, 'lname_c1': 0.95})"
      ]
     },
     "execution_count": 76,
     "metadata": {},
     "output_type": "execute_result"
    }
   ],
   "source": [
    "u_prob, m_prob"
   ]
  },
  {
   "cell_type": "code",
   "execution_count": 77,
   "metadata": {
    "collapsed": true
   },
   "outputs": [],
   "source": [
    "# Initiate comparison matrix and calculated weight matrix\n",
    "com_matrix = pd.DataFrame(np.zeros(df_a.shape), columns=df_a.columns)\n",
    "weight_matrix = pd.DataFrame(np.zeros(df_a.shape), columns=df_a.columns)"
   ]
  },
  {
   "cell_type": "code",
   "execution_count": 78,
   "metadata": {
    "collapsed": true
   },
   "outputs": [],
   "source": [
    "# Compare and fill the result into the comparison matrix\n",
    "for col in columns:\n",
    "    com_matrix[col] = (df_a[col] == df_b[col])"
   ]
  },
  {
   "cell_type": "code",
   "execution_count": 79,
   "metadata": {
    "collapsed": false
   },
   "outputs": [
    {
     "data": {
      "text/html": [
       "<div>\n",
       "<table border=\"1\" class=\"dataframe\">\n",
       "  <thead>\n",
       "    <tr style=\"text-align: right;\">\n",
       "      <th></th>\n",
       "      <th>fname_c1</th>\n",
       "      <th>lname_c1</th>\n",
       "      <th>by</th>\n",
       "      <th>bm</th>\n",
       "      <th>bd</th>\n",
       "    </tr>\n",
       "  </thead>\n",
       "  <tbody>\n",
       "    <tr>\n",
       "      <th>0</th>\n",
       "      <td>False</td>\n",
       "      <td>False</td>\n",
       "      <td>False</td>\n",
       "      <td>True</td>\n",
       "      <td>False</td>\n",
       "    </tr>\n",
       "    <tr>\n",
       "      <th>1</th>\n",
       "      <td>False</td>\n",
       "      <td>False</td>\n",
       "      <td>False</td>\n",
       "      <td>False</td>\n",
       "      <td>False</td>\n",
       "    </tr>\n",
       "    <tr>\n",
       "      <th>2</th>\n",
       "      <td>False</td>\n",
       "      <td>False</td>\n",
       "      <td>False</td>\n",
       "      <td>False</td>\n",
       "      <td>False</td>\n",
       "    </tr>\n",
       "    <tr>\n",
       "      <th>3</th>\n",
       "      <td>False</td>\n",
       "      <td>False</td>\n",
       "      <td>False</td>\n",
       "      <td>False</td>\n",
       "      <td>False</td>\n",
       "    </tr>\n",
       "    <tr>\n",
       "      <th>4</th>\n",
       "      <td>False</td>\n",
       "      <td>False</td>\n",
       "      <td>False</td>\n",
       "      <td>True</td>\n",
       "      <td>False</td>\n",
       "    </tr>\n",
       "  </tbody>\n",
       "</table>\n",
       "</div>"
      ],
      "text/plain": [
       "  fname_c1 lname_c1     by     bm     bd\n",
       "0    False    False  False   True  False\n",
       "1    False    False  False  False  False\n",
       "2    False    False  False  False  False\n",
       "3    False    False  False  False  False\n",
       "4    False    False  False   True  False"
      ]
     },
     "execution_count": 79,
     "metadata": {},
     "output_type": "execute_result"
    }
   ],
   "source": [
    "com_matrix.head()"
   ]
  },
  {
   "cell_type": "code",
   "execution_count": 80,
   "metadata": {
    "collapsed": true
   },
   "outputs": [],
   "source": [
    "# Calculate total weight from the record comparison and fill into the weight matrix\n",
    "for col in columns:\n",
    "    weight_matrix[col] = com_matrix[col].apply(lambda x: field_weight(col, x))"
   ]
  },
  {
   "cell_type": "code",
   "execution_count": 81,
   "metadata": {
    "collapsed": false
   },
   "outputs": [
    {
     "data": {
      "text/html": [
       "<div>\n",
       "<table border=\"1\" class=\"dataframe\">\n",
       "  <thead>\n",
       "    <tr style=\"text-align: right;\">\n",
       "      <th></th>\n",
       "      <th>fname_c1</th>\n",
       "      <th>lname_c1</th>\n",
       "      <th>by</th>\n",
       "      <th>bm</th>\n",
       "      <th>bd</th>\n",
       "    </tr>\n",
       "  </thead>\n",
       "  <tbody>\n",
       "    <tr>\n",
       "      <th>0</th>\n",
       "      <td>-4.312013</td>\n",
       "      <td>-4.308508</td>\n",
       "      <td>-4.305054</td>\n",
       "      <td>3.510962</td>\n",
       "      <td>-4.274622</td>\n",
       "    </tr>\n",
       "    <tr>\n",
       "      <th>1</th>\n",
       "      <td>-4.312013</td>\n",
       "      <td>-4.308508</td>\n",
       "      <td>-4.305054</td>\n",
       "      <td>-4.196397</td>\n",
       "      <td>-4.274622</td>\n",
       "    </tr>\n",
       "    <tr>\n",
       "      <th>2</th>\n",
       "      <td>-4.312013</td>\n",
       "      <td>-4.308508</td>\n",
       "      <td>-4.305054</td>\n",
       "      <td>-4.196397</td>\n",
       "      <td>-4.274622</td>\n",
       "    </tr>\n",
       "    <tr>\n",
       "      <th>3</th>\n",
       "      <td>-4.312013</td>\n",
       "      <td>-4.308508</td>\n",
       "      <td>-4.305054</td>\n",
       "      <td>-4.196397</td>\n",
       "      <td>-4.274622</td>\n",
       "    </tr>\n",
       "    <tr>\n",
       "      <th>4</th>\n",
       "      <td>-4.312013</td>\n",
       "      <td>-4.308508</td>\n",
       "      <td>-4.305054</td>\n",
       "      <td>3.510962</td>\n",
       "      <td>-4.274622</td>\n",
       "    </tr>\n",
       "  </tbody>\n",
       "</table>\n",
       "</div>"
      ],
      "text/plain": [
       "   fname_c1  lname_c1        by        bm        bd\n",
       "0 -4.312013 -4.308508 -4.305054  3.510962 -4.274622\n",
       "1 -4.312013 -4.308508 -4.305054 -4.196397 -4.274622\n",
       "2 -4.312013 -4.308508 -4.305054 -4.196397 -4.274622\n",
       "3 -4.312013 -4.308508 -4.305054 -4.196397 -4.274622\n",
       "4 -4.312013 -4.308508 -4.305054  3.510962 -4.274622"
      ]
     },
     "execution_count": 81,
     "metadata": {},
     "output_type": "execute_result"
    }
   ],
   "source": [
    "weight_matrix.head()"
   ]
  },
  {
   "cell_type": "code",
   "execution_count": 82,
   "metadata": {
    "collapsed": true
   },
   "outputs": [],
   "source": [
    "# Sum to get total weight\n",
    "weight_matrix['score'] = weight_matrix.sum(axis=1)"
   ]
  },
  {
   "cell_type": "code",
   "execution_count": 83,
   "metadata": {
    "collapsed": false
   },
   "outputs": [
    {
     "data": {
      "text/html": [
       "<div>\n",
       "<table border=\"1\" class=\"dataframe\">\n",
       "  <thead>\n",
       "    <tr style=\"text-align: right;\">\n",
       "      <th></th>\n",
       "      <th>fname_c1</th>\n",
       "      <th>lname_c1</th>\n",
       "      <th>by</th>\n",
       "      <th>bm</th>\n",
       "      <th>bd</th>\n",
       "      <th>score</th>\n",
       "    </tr>\n",
       "  </thead>\n",
       "  <tbody>\n",
       "    <tr>\n",
       "      <th>0</th>\n",
       "      <td>-4.312013</td>\n",
       "      <td>-4.308508</td>\n",
       "      <td>-4.305054</td>\n",
       "      <td>3.510962</td>\n",
       "      <td>-4.274622</td>\n",
       "      <td>-13.689235</td>\n",
       "    </tr>\n",
       "    <tr>\n",
       "      <th>1</th>\n",
       "      <td>-4.312013</td>\n",
       "      <td>-4.308508</td>\n",
       "      <td>-4.305054</td>\n",
       "      <td>-4.196397</td>\n",
       "      <td>-4.274622</td>\n",
       "      <td>-21.396594</td>\n",
       "    </tr>\n",
       "    <tr>\n",
       "      <th>2</th>\n",
       "      <td>-4.312013</td>\n",
       "      <td>-4.308508</td>\n",
       "      <td>-4.305054</td>\n",
       "      <td>-4.196397</td>\n",
       "      <td>-4.274622</td>\n",
       "      <td>-21.396594</td>\n",
       "    </tr>\n",
       "    <tr>\n",
       "      <th>3</th>\n",
       "      <td>-4.312013</td>\n",
       "      <td>-4.308508</td>\n",
       "      <td>-4.305054</td>\n",
       "      <td>-4.196397</td>\n",
       "      <td>-4.274622</td>\n",
       "      <td>-21.396594</td>\n",
       "    </tr>\n",
       "    <tr>\n",
       "      <th>4</th>\n",
       "      <td>-4.312013</td>\n",
       "      <td>-4.308508</td>\n",
       "      <td>-4.305054</td>\n",
       "      <td>3.510962</td>\n",
       "      <td>-4.274622</td>\n",
       "      <td>-13.689235</td>\n",
       "    </tr>\n",
       "  </tbody>\n",
       "</table>\n",
       "</div>"
      ],
      "text/plain": [
       "   fname_c1  lname_c1        by        bm        bd      score\n",
       "0 -4.312013 -4.308508 -4.305054  3.510962 -4.274622 -13.689235\n",
       "1 -4.312013 -4.308508 -4.305054 -4.196397 -4.274622 -21.396594\n",
       "2 -4.312013 -4.308508 -4.305054 -4.196397 -4.274622 -21.396594\n",
       "3 -4.312013 -4.308508 -4.305054 -4.196397 -4.274622 -21.396594\n",
       "4 -4.312013 -4.308508 -4.305054  3.510962 -4.274622 -13.689235"
      ]
     },
     "execution_count": 83,
     "metadata": {},
     "output_type": "execute_result"
    }
   ],
   "source": [
    "weight_matrix.head()"
   ]
  },
  {
   "cell_type": "code",
   "execution_count": 84,
   "metadata": {
    "collapsed": false
   },
   "outputs": [
    {
     "data": {
      "text/plain": [
       "count    249500.000000\n",
       "mean        -19.996130\n",
       "std           3.533547\n",
       "min         -21.396594\n",
       "25%         -21.396594\n",
       "50%         -21.396594\n",
       "75%         -21.396594\n",
       "max          20.832774\n",
       "Name: score, dtype: float64"
      ]
     },
     "execution_count": 84,
     "metadata": {},
     "output_type": "execute_result"
    }
   ],
   "source": [
    "weight_matrix.score.describe()"
   ]
  },
  {
   "cell_type": "code",
   "execution_count": 85,
   "metadata": {
    "collapsed": false
   },
   "outputs": [
    {
     "data": {
      "text/plain": [
       "92"
      ]
     },
     "execution_count": 85,
     "metadata": {},
     "output_type": "execute_result"
    }
   ],
   "source": [
    "len(weight_matrix[weight_matrix.score > 10])"
   ]
  },
  {
   "cell_type": "code",
   "execution_count": 86,
   "metadata": {
    "collapsed": false
   },
   "outputs": [
    {
     "data": {
      "text/html": [
       "<div>\n",
       "<table border=\"1\" class=\"dataframe\">\n",
       "  <thead>\n",
       "    <tr style=\"text-align: right;\">\n",
       "      <th></th>\n",
       "      <th>fname_c1</th>\n",
       "      <th>lname_c1</th>\n",
       "      <th>by</th>\n",
       "      <th>bm</th>\n",
       "      <th>bd</th>\n",
       "      <th>score</th>\n",
       "    </tr>\n",
       "  </thead>\n",
       "  <tbody>\n",
       "    <tr>\n",
       "      <th>12081</th>\n",
       "      <td>7.115824</td>\n",
       "      <td>6.680887</td>\n",
       "      <td>6.352264</td>\n",
       "      <td>-4.196397</td>\n",
       "      <td>4.880196</td>\n",
       "      <td>20.832774</td>\n",
       "    </tr>\n",
       "    <tr>\n",
       "      <th>52568</th>\n",
       "      <td>7.115824</td>\n",
       "      <td>6.680887</td>\n",
       "      <td>6.352264</td>\n",
       "      <td>-4.196397</td>\n",
       "      <td>4.880196</td>\n",
       "      <td>20.832774</td>\n",
       "    </tr>\n",
       "    <tr>\n",
       "      <th>52918</th>\n",
       "      <td>7.115824</td>\n",
       "      <td>6.680887</td>\n",
       "      <td>6.352264</td>\n",
       "      <td>-4.196397</td>\n",
       "      <td>4.880196</td>\n",
       "      <td>20.832774</td>\n",
       "    </tr>\n",
       "    <tr>\n",
       "      <th>86931</th>\n",
       "      <td>7.115824</td>\n",
       "      <td>6.680887</td>\n",
       "      <td>6.352264</td>\n",
       "      <td>-4.196397</td>\n",
       "      <td>4.880196</td>\n",
       "      <td>20.832774</td>\n",
       "    </tr>\n",
       "    <tr>\n",
       "      <th>184607</th>\n",
       "      <td>7.115824</td>\n",
       "      <td>6.680887</td>\n",
       "      <td>6.352264</td>\n",
       "      <td>-4.196397</td>\n",
       "      <td>4.880196</td>\n",
       "      <td>20.832774</td>\n",
       "    </tr>\n",
       "    <tr>\n",
       "      <th>238392</th>\n",
       "      <td>7.115824</td>\n",
       "      <td>6.680887</td>\n",
       "      <td>6.352264</td>\n",
       "      <td>-4.196397</td>\n",
       "      <td>4.880196</td>\n",
       "      <td>20.832774</td>\n",
       "    </tr>\n",
       "  </tbody>\n",
       "</table>\n",
       "</div>"
      ],
      "text/plain": [
       "        fname_c1  lname_c1        by        bm        bd      score\n",
       "12081   7.115824  6.680887  6.352264 -4.196397  4.880196  20.832774\n",
       "52568   7.115824  6.680887  6.352264 -4.196397  4.880196  20.832774\n",
       "52918   7.115824  6.680887  6.352264 -4.196397  4.880196  20.832774\n",
       "86931   7.115824  6.680887  6.352264 -4.196397  4.880196  20.832774\n",
       "184607  7.115824  6.680887  6.352264 -4.196397  4.880196  20.832774\n",
       "238392  7.115824  6.680887  6.352264 -4.196397  4.880196  20.832774"
      ]
     },
     "execution_count": 86,
     "metadata": {},
     "output_type": "execute_result"
    }
   ],
   "source": [
    "weight_matrix[weight_matrix.score > 20]"
   ]
  },
  {
   "cell_type": "code",
   "execution_count": 87,
   "metadata": {
    "collapsed": false
   },
   "outputs": [
    {
     "data": {
      "text/plain": [
       "fname_c1    MATTHIAS\n",
       "lname_c1        HAAS\n",
       "by              1955\n",
       "bm                 7\n",
       "bd                 8\n",
       "Name: 12081, dtype: object"
      ]
     },
     "execution_count": 87,
     "metadata": {},
     "output_type": "execute_result"
    }
   ],
   "source": [
    "df_a.iloc[12081,:]"
   ]
  },
  {
   "cell_type": "code",
   "execution_count": 88,
   "metadata": {
    "collapsed": false
   },
   "outputs": [
    {
     "data": {
      "text/plain": [
       "fname_c1    MATTHIAS\n",
       "lname_c1        HAAS\n",
       "by              1955\n",
       "bm                 8\n",
       "bd                 8\n",
       "Name: 12081, dtype: object"
      ]
     },
     "execution_count": 88,
     "metadata": {},
     "output_type": "execute_result"
    }
   ],
   "source": [
    "df_b.iloc[12081,:]"
   ]
  },
  {
   "cell_type": "markdown",
   "metadata": {},
   "source": [
    "#### Distribution of the score"
   ]
  },
  {
   "cell_type": "code",
   "execution_count": 89,
   "metadata": {
    "collapsed": false
   },
   "outputs": [
    {
     "data": {
      "text/plain": [
       "<matplotlib.axes._subplots.AxesSubplot at 0x7fed07698f10>"
      ]
     },
     "execution_count": 89,
     "metadata": {},
     "output_type": "execute_result"
    },
    {
     "data": {
      "image/png": "[encoded data removed]",
      "text/plain": [
       "<matplotlib.figure.Figure at 0x7fed07679f50>"
      ]
     },
     "metadata": {},
     "output_type": "display_data"
    }
   ],
   "source": [
    "import matplotlib.pyplot as plt\n",
    "%matplotlib inline\n",
    "import seaborn\n",
    "seaborn.distplot(weight_matrix.score, bins=20, kde=0)"
   ]
  },
  {
   "cell_type": "code",
   "execution_count": 91,
   "metadata": {
    "collapsed": false
   },
   "outputs": [
    {
     "data": {
      "text/plain": [
       "238"
      ]
     },
     "execution_count": 91,
     "metadata": {},
     "output_type": "execute_result"
    }
   ],
   "source": [
    "len(weight_matrix[weight_matrix.score > 0])"
   ]
  },
  {
   "cell_type": "markdown",
   "metadata": {},
   "source": [
    "As we can see from the distribution of calculated weight score is lower than zero since most of the records are differing. There are some record pairs that score higher than 20, they are most likely those records that compare to themselves because we did not remove those pairs before calculating the weight (which we should have done it).\n",
    "\n",
    "Hence, we will pick sample of the record pairs that scores in range 0 - 20 (positively) to evaluate the result"
   ]
  },
  {
   "cell_type": "code",
   "execution_count": 93,
   "metadata": {
    "collapsed": false
   },
   "outputs": [
    {
     "data": {
      "text/html": [
       "<div>\n",
       "<table border=\"1\" class=\"dataframe\">\n",
       "  <thead>\n",
       "    <tr style=\"text-align: right;\">\n",
       "      <th></th>\n",
       "      <th>fname_c1</th>\n",
       "      <th>lname_c1</th>\n",
       "      <th>by</th>\n",
       "      <th>bm</th>\n",
       "      <th>bd</th>\n",
       "      <th>score</th>\n",
       "    </tr>\n",
       "  </thead>\n",
       "  <tbody>\n",
       "    <tr>\n",
       "      <th>540</th>\n",
       "      <td>7.115824</td>\n",
       "      <td>-4.308508</td>\n",
       "      <td>6.352264</td>\n",
       "      <td>3.510962</td>\n",
       "      <td>4.880196</td>\n",
       "      <td>17.550738</td>\n",
       "    </tr>\n",
       "    <tr>\n",
       "      <th>1545</th>\n",
       "      <td>7.115824</td>\n",
       "      <td>-4.308508</td>\n",
       "      <td>6.352264</td>\n",
       "      <td>-4.196397</td>\n",
       "      <td>-4.274622</td>\n",
       "      <td>0.688561</td>\n",
       "    </tr>\n",
       "    <tr>\n",
       "      <th>1729</th>\n",
       "      <td>7.115824</td>\n",
       "      <td>-4.308508</td>\n",
       "      <td>6.352264</td>\n",
       "      <td>-4.196397</td>\n",
       "      <td>-4.274622</td>\n",
       "      <td>0.688561</td>\n",
       "    </tr>\n",
       "    <tr>\n",
       "      <th>1887</th>\n",
       "      <td>-4.312013</td>\n",
       "      <td>-4.308508</td>\n",
       "      <td>6.352264</td>\n",
       "      <td>3.510962</td>\n",
       "      <td>4.880196</td>\n",
       "      <td>6.122902</td>\n",
       "    </tr>\n",
       "    <tr>\n",
       "      <th>7481</th>\n",
       "      <td>-4.312013</td>\n",
       "      <td>6.680887</td>\n",
       "      <td>6.352264</td>\n",
       "      <td>-4.196397</td>\n",
       "      <td>-4.274622</td>\n",
       "      <td>0.250119</td>\n",
       "    </tr>\n",
       "    <tr>\n",
       "      <th>8175</th>\n",
       "      <td>-4.312013</td>\n",
       "      <td>6.680887</td>\n",
       "      <td>6.352264</td>\n",
       "      <td>-4.196397</td>\n",
       "      <td>4.880196</td>\n",
       "      <td>9.404937</td>\n",
       "    </tr>\n",
       "    <tr>\n",
       "      <th>9030</th>\n",
       "      <td>7.115824</td>\n",
       "      <td>6.680887</td>\n",
       "      <td>-4.305054</td>\n",
       "      <td>-4.196397</td>\n",
       "      <td>-4.274622</td>\n",
       "      <td>1.020637</td>\n",
       "    </tr>\n",
       "    <tr>\n",
       "      <th>9195</th>\n",
       "      <td>7.115824</td>\n",
       "      <td>6.680887</td>\n",
       "      <td>-4.305054</td>\n",
       "      <td>-4.196397</td>\n",
       "      <td>-4.274622</td>\n",
       "      <td>1.020637</td>\n",
       "    </tr>\n",
       "    <tr>\n",
       "      <th>9214</th>\n",
       "      <td>7.115824</td>\n",
       "      <td>6.680887</td>\n",
       "      <td>-4.305054</td>\n",
       "      <td>-4.196397</td>\n",
       "      <td>-4.274622</td>\n",
       "      <td>1.020637</td>\n",
       "    </tr>\n",
       "    <tr>\n",
       "      <th>10400</th>\n",
       "      <td>-4.312013</td>\n",
       "      <td>6.680887</td>\n",
       "      <td>6.352264</td>\n",
       "      <td>-4.196397</td>\n",
       "      <td>-4.274622</td>\n",
       "      <td>0.250119</td>\n",
       "    </tr>\n",
       "  </tbody>\n",
       "</table>\n",
       "</div>"
      ],
      "text/plain": [
       "       fname_c1  lname_c1        by        bm        bd      score\n",
       "540    7.115824 -4.308508  6.352264  3.510962  4.880196  17.550738\n",
       "1545   7.115824 -4.308508  6.352264 -4.196397 -4.274622   0.688561\n",
       "1729   7.115824 -4.308508  6.352264 -4.196397 -4.274622   0.688561\n",
       "1887  -4.312013 -4.308508  6.352264  3.510962  4.880196   6.122902\n",
       "7481  -4.312013  6.680887  6.352264 -4.196397 -4.274622   0.250119\n",
       "8175  -4.312013  6.680887  6.352264 -4.196397  4.880196   9.404937\n",
       "9030   7.115824  6.680887 -4.305054 -4.196397 -4.274622   1.020637\n",
       "9195   7.115824  6.680887 -4.305054 -4.196397 -4.274622   1.020637\n",
       "9214   7.115824  6.680887 -4.305054 -4.196397 -4.274622   1.020637\n",
       "10400 -4.312013  6.680887  6.352264 -4.196397 -4.274622   0.250119"
      ]
     },
     "execution_count": 93,
     "metadata": {},
     "output_type": "execute_result"
    }
   ],
   "source": [
    "weight_matrix[(weight_matrix.score > 0)].head(10)"
   ]
  },
  {
   "cell_type": "code",
   "execution_count": 94,
   "metadata": {
    "collapsed": true
   },
   "outputs": [],
   "source": [
    "match_index = weight_matrix[(weight_matrix.score > 0)].head(10).index.tolist()"
   ]
  },
  {
   "cell_type": "code",
   "execution_count": 95,
   "metadata": {
    "collapsed": false
   },
   "outputs": [
    {
     "data": {
      "text/plain": [
       "[540, 1545, 1729, 1887, 7481, 8175, 9030, 9195, 9214, 10400]"
      ]
     },
     "execution_count": 95,
     "metadata": {},
     "output_type": "execute_result"
    }
   ],
   "source": [
    "match_index"
   ]
  },
  {
   "cell_type": "code",
   "execution_count": 96,
   "metadata": {
    "collapsed": false
   },
   "outputs": [
    {
     "data": {
      "text/html": [
       "<div>\n",
       "<table border=\"1\" class=\"dataframe\">\n",
       "  <thead>\n",
       "    <tr style=\"text-align: right;\">\n",
       "      <th></th>\n",
       "      <th>score</th>\n",
       "      <th>fname_c1_x</th>\n",
       "      <th>lname_c1_x</th>\n",
       "      <th>by_x</th>\n",
       "      <th>bm_x</th>\n",
       "      <th>bd_x</th>\n",
       "      <th>fname_c1_y</th>\n",
       "      <th>lname_c1_y</th>\n",
       "      <th>by_y</th>\n",
       "      <th>bm_y</th>\n",
       "      <th>bd_y</th>\n",
       "    </tr>\n",
       "  </thead>\n",
       "  <tbody>\n",
       "    <tr>\n",
       "      <th>540</th>\n",
       "      <td>17.550738</td>\n",
       "      <td>GERD</td>\n",
       "      <td>BAUER</td>\n",
       "      <td>1968</td>\n",
       "      <td>7</td>\n",
       "      <td>27</td>\n",
       "      <td>GERD</td>\n",
       "      <td>BAUERH</td>\n",
       "      <td>1968</td>\n",
       "      <td>7</td>\n",
       "      <td>27</td>\n",
       "    </tr>\n",
       "    <tr>\n",
       "      <th>1545</th>\n",
       "      <td>0.688561</td>\n",
       "      <td>STEFAN</td>\n",
       "      <td>WOLFF</td>\n",
       "      <td>1957</td>\n",
       "      <td>9</td>\n",
       "      <td>2</td>\n",
       "      <td>STEFAN</td>\n",
       "      <td>MUELLER</td>\n",
       "      <td>1957</td>\n",
       "      <td>6</td>\n",
       "      <td>7</td>\n",
       "    </tr>\n",
       "    <tr>\n",
       "      <th>1729</th>\n",
       "      <td>0.688561</td>\n",
       "      <td>STEFAN</td>\n",
       "      <td>WOLFF</td>\n",
       "      <td>1957</td>\n",
       "      <td>9</td>\n",
       "      <td>2</td>\n",
       "      <td>STEFAN</td>\n",
       "      <td>MUELLER</td>\n",
       "      <td>1957</td>\n",
       "      <td>6</td>\n",
       "      <td>1</td>\n",
       "    </tr>\n",
       "    <tr>\n",
       "      <th>1887</th>\n",
       "      <td>6.122902</td>\n",
       "      <td>STEFAN</td>\n",
       "      <td>WOLFF</td>\n",
       "      <td>1957</td>\n",
       "      <td>9</td>\n",
       "      <td>2</td>\n",
       "      <td>HELGA</td>\n",
       "      <td>KOCH</td>\n",
       "      <td>1957</td>\n",
       "      <td>9</td>\n",
       "      <td>2</td>\n",
       "    </tr>\n",
       "    <tr>\n",
       "      <th>7481</th>\n",
       "      <td>0.250119</td>\n",
       "      <td>WALTER</td>\n",
       "      <td>SCHNEIDER</td>\n",
       "      <td>1953</td>\n",
       "      <td>8</td>\n",
       "      <td>26</td>\n",
       "      <td>SABINE</td>\n",
       "      <td>SCHNEIDER</td>\n",
       "      <td>1953</td>\n",
       "      <td>5</td>\n",
       "      <td>20</td>\n",
       "    </tr>\n",
       "    <tr>\n",
       "      <th>8175</th>\n",
       "      <td>9.404937</td>\n",
       "      <td>ALEXANDER</td>\n",
       "      <td>MUELLER</td>\n",
       "      <td>1974</td>\n",
       "      <td>9</td>\n",
       "      <td>9</td>\n",
       "      <td>CHRISTIAN</td>\n",
       "      <td>MUELLER</td>\n",
       "      <td>1974</td>\n",
       "      <td>8</td>\n",
       "      <td>9</td>\n",
       "    </tr>\n",
       "    <tr>\n",
       "      <th>9030</th>\n",
       "      <td>1.020637</td>\n",
       "      <td>STEFAN</td>\n",
       "      <td>MUELLER</td>\n",
       "      <td>1949</td>\n",
       "      <td>8</td>\n",
       "      <td>13</td>\n",
       "      <td>STEFAN</td>\n",
       "      <td>MUELLER</td>\n",
       "      <td>1957</td>\n",
       "      <td>6</td>\n",
       "      <td>7</td>\n",
       "    </tr>\n",
       "    <tr>\n",
       "      <th>9195</th>\n",
       "      <td>1.020637</td>\n",
       "      <td>STEFAN</td>\n",
       "      <td>MUELLER</td>\n",
       "      <td>1949</td>\n",
       "      <td>8</td>\n",
       "      <td>13</td>\n",
       "      <td>STEFAN</td>\n",
       "      <td>MUELLER</td>\n",
       "      <td>2004</td>\n",
       "      <td>4</td>\n",
       "      <td>20</td>\n",
       "    </tr>\n",
       "    <tr>\n",
       "      <th>9214</th>\n",
       "      <td>1.020637</td>\n",
       "      <td>STEFAN</td>\n",
       "      <td>MUELLER</td>\n",
       "      <td>1949</td>\n",
       "      <td>8</td>\n",
       "      <td>13</td>\n",
       "      <td>STEFAN</td>\n",
       "      <td>MUELLER</td>\n",
       "      <td>1957</td>\n",
       "      <td>6</td>\n",
       "      <td>1</td>\n",
       "    </tr>\n",
       "    <tr>\n",
       "      <th>10400</th>\n",
       "      <td>0.250119</td>\n",
       "      <td>DENNIS</td>\n",
       "      <td>SCHAEFER</td>\n",
       "      <td>1956</td>\n",
       "      <td>4</td>\n",
       "      <td>11</td>\n",
       "      <td>INGRID</td>\n",
       "      <td>SCHAEFER</td>\n",
       "      <td>1956</td>\n",
       "      <td>10</td>\n",
       "      <td>22</td>\n",
       "    </tr>\n",
       "  </tbody>\n",
       "</table>\n",
       "</div>"
      ],
      "text/plain": [
       "           score fname_c1_x lname_c1_x  by_x  bm_x  bd_x fname_c1_y  \\\n",
       "540    17.550738       GERD      BAUER  1968     7    27       GERD   \n",
       "1545    0.688561     STEFAN      WOLFF  1957     9     2     STEFAN   \n",
       "1729    0.688561     STEFAN      WOLFF  1957     9     2     STEFAN   \n",
       "1887    6.122902     STEFAN      WOLFF  1957     9     2      HELGA   \n",
       "7481    0.250119     WALTER  SCHNEIDER  1953     8    26     SABINE   \n",
       "8175    9.404937  ALEXANDER    MUELLER  1974     9     9  CHRISTIAN   \n",
       "9030    1.020637     STEFAN    MUELLER  1949     8    13     STEFAN   \n",
       "9195    1.020637     STEFAN    MUELLER  1949     8    13     STEFAN   \n",
       "9214    1.020637     STEFAN    MUELLER  1949     8    13     STEFAN   \n",
       "10400   0.250119     DENNIS   SCHAEFER  1956     4    11     INGRID   \n",
       "\n",
       "      lname_c1_y  by_y  bm_y  bd_y  \n",
       "540       BAUERH  1968     7    27  \n",
       "1545     MUELLER  1957     6     7  \n",
       "1729     MUELLER  1957     6     1  \n",
       "1887        KOCH  1957     9     2  \n",
       "7481   SCHNEIDER  1953     5    20  \n",
       "8175     MUELLER  1974     8     9  \n",
       "9030     MUELLER  1957     6     7  \n",
       "9195     MUELLER  2004     4    20  \n",
       "9214     MUELLER  1957     6     1  \n",
       "10400   SCHAEFER  1956    10    22  "
      ]
     },
     "execution_count": 96,
     "metadata": {},
     "output_type": "execute_result"
    }
   ],
   "source": [
    "pd.merge(weight_matrix[(weight_matrix.score > 0) & (weight_matrix.score < 20)].head(10)[['score']], \\\n",
    "         rl500_pairs[rl500_pairs.index.isin(match_index)][['fname_c1_x','lname_c1_x','by_x','bm_x','bd_x', \\\n",
    "                                                  'fname_c1_y','lname_c1_y','by_y','bm_y','bd_y']], \\\n",
    "         left_index = True, right_index = True)"
   ]
  },
  {
   "cell_type": "markdown",
   "metadata": {},
   "source": [
    "As we can see from the result shown above, the record at the index 540 scores 17.55 because the same first name and birthdate and the slight difference lastname (BAUER vs BAUERH), which could be due to typo error.\n",
    "\n",
    "The index 8175, ALEXANDER MUELLER and CHRISTIAN MUELLER is questionable, the same lastname and the birth month difference could result from typo error; however, we can treat this record pair as questionable and require further review.\n",
    "\n",
    "The record at the index 9030, 9195 and 9214 scores low despite the same firstname and lastname, since they have different birthdate"
   ]
  },
  {
   "cell_type": "code",
   "execution_count": null,
   "metadata": {
    "collapsed": true
   },
   "outputs": [],
   "source": []
  }
 ],
 "metadata": {
  "kernelspec": {
   "display_name": "Python 2",
   "language": "python",
   "name": "python2"
  },
  "language_info": {
   "codemirror_mode": {
    "name": "ipython",
    "version": 2
   },
   "file_extension": ".py",
   "mimetype": "text/x-python",
   "name": "python",
   "nbconvert_exporter": "python",
   "pygments_lexer": "ipython2",
   "version": "2.7.10"
  }
 },
 "nbformat": 4,
 "nbformat_minor": 0
}
